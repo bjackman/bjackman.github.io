{
  "nbformat": 4,
  "nbformat_minor": 0,
  "metadata": {
    "colab": {
      "name": "UK Tax Rates",
      "provenance": [],
      "collapsed_sections": []
    },
    "kernelspec": {
      "name": "python3",
      "display_name": "Python 3"
    },
    "language_info": {
      "name": "python"
    }
  },
  "cells": [
    {
      "cell_type": "code",
      "metadata": {
        "id": "AFFZGGQmiSET"
      },
      "source": [
        "import pandas as pd\n",
        "import numpy as np\n",
        "import seaborn as sns\n",
        "import matplotlib\n",
        "import matplotlib.ticker as tkr\n",
        "import matplotlib.pyplot as plt\n",
        "\n",
        "%matplotlib inline"
      ],
      "execution_count": null,
      "outputs": []
    },
    {
      "cell_type": "code",
      "metadata": {
        "id": "nY2LR6HWkFNO"
      },
      "source": [
        "class MarginalRates:\n",
        "  def __init__(self, rates):\n",
        "    sorted_kvs = sorted(rates.items(), key=lambda p: p[0])\n",
        "    self._brackets = []\n",
        "    for (bracket_bottom,rate), (bracket_top, _) in zip(sorted_kvs, sorted_kvs[1:]):\n",
        "      self._brackets.append((bracket_top - 1 - bracket_bottom, rate))\n",
        "    self._top_rate = sorted_kvs[-1][1]\n",
        "\n",
        "  def apply(self, value: int) -> int:\n",
        "    acc = 0\n",
        "    for bracket_width, rate in self._brackets:\n",
        "      value_in_bracket = min(value, bracket_width)\n",
        "      # Not sure if this way of rounding is correct. Close enough.\n",
        "      tax_in_bracket = int(rate * value_in_bracket)\n",
        "      acc += tax_in_bracket\n",
        "      value -= value_in_bracket\n",
        "    return acc + int(self._top_rate * value)"
      ],
      "execution_count": null,
      "outputs": []
    },
    {
      "cell_type": "code",
      "metadata": {
        "id": "W8P5FTuSiUnV"
      },
      "source": [
        "# Based on https://www.gov.uk/national-insurance-rates-letters\n",
        "# Category A, FY2021\n",
        "ni_weekly_marginal_rates = MarginalRates({\n",
        "    0: 0,\n",
        "    18401: 0.12,\n",
        "    96701: 0.02, \n",
        "})"
      ],
      "execution_count": null,
      "outputs": []
    },
    {
      "cell_type": "code",
      "metadata": {
        "id": "YYfGDGaftaRj"
      },
      "source": [
        "# It should actually be 9462 lol\n",
        "# Close enough\n",
        "assert ni_weekly_marginal_rates.apply(100000) == 9461"
      ],
      "execution_count": null,
      "outputs": []
    },
    {
      "cell_type": "code",
      "metadata": {
        "id": "CFnOv_ySjFDO"
      },
      "source": [
        "df = pd.DataFrame({'weekly_income': np.arange(5000000, step=10-00)})\n",
        "df['annual_income'] = df['weekly_income'] * 52  # ish\n",
        "df['weekly_ni'] = df['weekly_income'].apply(ni_weekly_marginal_rates.apply)\n",
        "df['annual_ni'] = df['weekly_ni'] * 52\n",
        "df['effective_rate'] = df['weekly_ni'] / df['weekly_income']\n",
        "main_df = df"
      ],
      "execution_count": 118,
      "outputs": []
    },
    {
      "cell_type": "code",
      "metadata": {
        "id": "JUg9PEvS0xRN"
      },
      "source": [
        "matplotlib.rc('font', size=18)\n",
        "\n",
        "def do_plot(df, col, ylabel):\n",
        "  df = pd.DataFrame(df)\n",
        "  df['annual_income'] /= 100  # Convert to pounds\n",
        "  df['annual_ni'] /= 100  # Convert to pounds\n",
        "  df['effective_rate'] *= 100 # Convert to percent\n",
        "\n",
        "  f, ax = plt.subplots(figsize=(12, 8))\n",
        "  ax.set(xlabel='Annual Income £', ylabel=ylabel)\n",
        "\n",
        "  def func(x, pos):\n",
        "      return '{:0,d}'.format(int(x))\n",
        "  ax.xaxis.set_major_formatter(tkr.FuncFormatter(func))\n",
        "  ax.yaxis.set_major_formatter(tkr.FuncFormatter(func))\n",
        "\n",
        "  sns.lineplot(ax=ax, data=df, x='annual_income', y=col)"
      ],
      "execution_count": 119,
      "outputs": []
    },
    {
      "cell_type": "code",
      "metadata": {
        "colab": {
          "base_uri": "https://localhost:8080/",
          "height": 206
        },
        "id": "xd5RsVO31-3L",
        "outputId": "347668bb-832b-4253-8949-49c55d1042cf"
      },
      "source": [
        "df.tail()"
      ],
      "execution_count": 120,
      "outputs": [
        {
          "output_type": "execute_result",
          "data": {
            "text/html": [
              "<div>\n",
              "<style scoped>\n",
              "    .dataframe tbody tr th:only-of-type {\n",
              "        vertical-align: middle;\n",
              "    }\n",
              "\n",
              "    .dataframe tbody tr th {\n",
              "        vertical-align: top;\n",
              "    }\n",
              "\n",
              "    .dataframe thead th {\n",
              "        text-align: right;\n",
              "    }\n",
              "</style>\n",
              "<table border=\"1\" class=\"dataframe\">\n",
              "  <thead>\n",
              "    <tr style=\"text-align: right;\">\n",
              "      <th></th>\n",
              "      <th>weekly_income</th>\n",
              "      <th>annual_income</th>\n",
              "      <th>weekly_ni</th>\n",
              "      <th>annual_ni</th>\n",
              "      <th>effective_rate</th>\n",
              "    </tr>\n",
              "  </thead>\n",
              "  <tbody>\n",
              "    <tr>\n",
              "      <th>499995</th>\n",
              "      <td>4999950</td>\n",
              "      <td>259997400</td>\n",
              "      <td>107460</td>\n",
              "      <td>5587920</td>\n",
              "      <td>0.021492</td>\n",
              "    </tr>\n",
              "    <tr>\n",
              "      <th>499996</th>\n",
              "      <td>4999960</td>\n",
              "      <td>259997920</td>\n",
              "      <td>107460</td>\n",
              "      <td>5587920</td>\n",
              "      <td>0.021492</td>\n",
              "    </tr>\n",
              "    <tr>\n",
              "      <th>499997</th>\n",
              "      <td>4999970</td>\n",
              "      <td>259998440</td>\n",
              "      <td>107460</td>\n",
              "      <td>5587920</td>\n",
              "      <td>0.021492</td>\n",
              "    </tr>\n",
              "    <tr>\n",
              "      <th>499998</th>\n",
              "      <td>4999980</td>\n",
              "      <td>259998960</td>\n",
              "      <td>107460</td>\n",
              "      <td>5587920</td>\n",
              "      <td>0.021492</td>\n",
              "    </tr>\n",
              "    <tr>\n",
              "      <th>499999</th>\n",
              "      <td>4999990</td>\n",
              "      <td>259999480</td>\n",
              "      <td>107460</td>\n",
              "      <td>5587920</td>\n",
              "      <td>0.021492</td>\n",
              "    </tr>\n",
              "  </tbody>\n",
              "</table>\n",
              "</div>"
            ],
            "text/plain": [
              "        weekly_income  annual_income  weekly_ni  annual_ni  effective_rate\n",
              "499995        4999950      259997400     107460    5587920        0.021492\n",
              "499996        4999960      259997920     107460    5587920        0.021492\n",
              "499997        4999970      259998440     107460    5587920        0.021492\n",
              "499998        4999980      259998960     107460    5587920        0.021492\n",
              "499999        4999990      259999480     107460    5587920        0.021492"
            ]
          },
          "metadata": {},
          "execution_count": 120
        }
      ]
    },
    {
      "cell_type": "code",
      "metadata": {
        "colab": {
          "base_uri": "https://localhost:8080/",
          "height": 513
        },
        "id": "WJC25_VHvlIf",
        "outputId": "79bdfa95-2387-4325-d808-fd9599fb8c66"
      },
      "source": [
        "do_plot(main_df[main_df['annual_income'] < 10000000], 'effective_rate', 'Effective Rate %')"
      ],
      "execution_count": 121,
      "outputs": [
        {
          "output_type": "display_data",
          "data": {
            "image/png": "[encoded data removed]",
            "text/plain": [
              "<Figure size 864x576 with 1 Axes>"
            ]
          },
          "metadata": {
            "needs_background": "light"
          }
        }
      ]
    },
    {
      "cell_type": "code",
      "metadata": {
        "colab": {
          "base_uri": "https://localhost:8080/",
          "height": 513
        },
        "id": "MLzcTeN31mKq",
        "outputId": "db38af45-55e3-45ce-eb92-783acf2a5f82"
      },
      "source": [
        "do_plot(main_df[main_df['annual_income'] < 10000000], 'annual_ni', 'Total NI £')"
      ],
      "execution_count": null,
      "outputs": [
        {
          "output_type": "display_data",
          "data": {
            "image/png": "[encoded data removed]",
            "text/plain": [
              "<Figure size 864x576 with 1 Axes>"
            ]
          },
          "metadata": {
            "needs_background": "light"
          }
        }
      ]
    },
    {
      "cell_type": "code",
      "metadata": {
        "id": "HhNf66bZ2SX7",
        "colab": {
          "base_uri": "https://localhost:8080/",
          "height": 424
        },
        "outputId": "bb5e6e83-ed37-40e0-cc7f-d1afc4e1a3c2"
      },
      "source": [
        "main_df[main_df['annual_income'] < 2500000]"
      ],
      "execution_count": 124,
      "outputs": [
        {
          "output_type": "execute_result",
          "data": {
            "text/html": [
              "<div>\n",
              "<style scoped>\n",
              "    .dataframe tbody tr th:only-of-type {\n",
              "        vertical-align: middle;\n",
              "    }\n",
              "\n",
              "    .dataframe tbody tr th {\n",
              "        vertical-align: top;\n",
              "    }\n",
              "\n",
              "    .dataframe thead th {\n",
              "        text-align: right;\n",
              "    }\n",
              "</style>\n",
              "<table border=\"1\" class=\"dataframe\">\n",
              "  <thead>\n",
              "    <tr style=\"text-align: right;\">\n",
              "      <th></th>\n",
              "      <th>weekly_income</th>\n",
              "      <th>annual_income</th>\n",
              "      <th>weekly_ni</th>\n",
              "      <th>annual_ni</th>\n",
              "      <th>effective_rate</th>\n",
              "    </tr>\n",
              "  </thead>\n",
              "  <tbody>\n",
              "    <tr>\n",
              "      <th>0</th>\n",
              "      <td>0</td>\n",
              "      <td>0</td>\n",
              "      <td>0</td>\n",
              "      <td>0</td>\n",
              "      <td>NaN</td>\n",
              "    </tr>\n",
              "    <tr>\n",
              "      <th>1</th>\n",
              "      <td>10</td>\n",
              "      <td>520</td>\n",
              "      <td>0</td>\n",
              "      <td>0</td>\n",
              "      <td>0.000000</td>\n",
              "    </tr>\n",
              "    <tr>\n",
              "      <th>2</th>\n",
              "      <td>20</td>\n",
              "      <td>1040</td>\n",
              "      <td>0</td>\n",
              "      <td>0</td>\n",
              "      <td>0.000000</td>\n",
              "    </tr>\n",
              "    <tr>\n",
              "      <th>3</th>\n",
              "      <td>30</td>\n",
              "      <td>1560</td>\n",
              "      <td>0</td>\n",
              "      <td>0</td>\n",
              "      <td>0.000000</td>\n",
              "    </tr>\n",
              "    <tr>\n",
              "      <th>4</th>\n",
              "      <td>40</td>\n",
              "      <td>2080</td>\n",
              "      <td>0</td>\n",
              "      <td>0</td>\n",
              "      <td>0.000000</td>\n",
              "    </tr>\n",
              "    <tr>\n",
              "      <th>...</th>\n",
              "      <td>...</td>\n",
              "      <td>...</td>\n",
              "      <td>...</td>\n",
              "      <td>...</td>\n",
              "      <td>...</td>\n",
              "    </tr>\n",
              "    <tr>\n",
              "      <th>4803</th>\n",
              "      <td>48030</td>\n",
              "      <td>2497560</td>\n",
              "      <td>3555</td>\n",
              "      <td>184860</td>\n",
              "      <td>0.074016</td>\n",
              "    </tr>\n",
              "    <tr>\n",
              "      <th>4804</th>\n",
              "      <td>48040</td>\n",
              "      <td>2498080</td>\n",
              "      <td>3556</td>\n",
              "      <td>184912</td>\n",
              "      <td>0.074022</td>\n",
              "    </tr>\n",
              "    <tr>\n",
              "      <th>4805</th>\n",
              "      <td>48050</td>\n",
              "      <td>2498600</td>\n",
              "      <td>3558</td>\n",
              "      <td>185016</td>\n",
              "      <td>0.074048</td>\n",
              "    </tr>\n",
              "    <tr>\n",
              "      <th>4806</th>\n",
              "      <td>48060</td>\n",
              "      <td>2499120</td>\n",
              "      <td>3559</td>\n",
              "      <td>185068</td>\n",
              "      <td>0.074053</td>\n",
              "    </tr>\n",
              "    <tr>\n",
              "      <th>4807</th>\n",
              "      <td>48070</td>\n",
              "      <td>2499640</td>\n",
              "      <td>3560</td>\n",
              "      <td>185120</td>\n",
              "      <td>0.074059</td>\n",
              "    </tr>\n",
              "  </tbody>\n",
              "</table>\n",
              "<p>4808 rows × 5 columns</p>\n",
              "</div>"
            ],
            "text/plain": [
              "      weekly_income  annual_income  weekly_ni  annual_ni  effective_rate\n",
              "0                 0              0          0          0             NaN\n",
              "1                10            520          0          0        0.000000\n",
              "2                20           1040          0          0        0.000000\n",
              "3                30           1560          0          0        0.000000\n",
              "4                40           2080          0          0        0.000000\n",
              "...             ...            ...        ...        ...             ...\n",
              "4803          48030        2497560       3555     184860        0.074016\n",
              "4804          48040        2498080       3556     184912        0.074022\n",
              "4805          48050        2498600       3558     185016        0.074048\n",
              "4806          48060        2499120       3559     185068        0.074053\n",
              "4807          48070        2499640       3560     185120        0.074059\n",
              "\n",
              "[4808 rows x 5 columns]"
            ]
          },
          "metadata": {},
          "execution_count": 124
        }
      ]
    }
  ]
}